{
 "cells": [
  {
   "cell_type": "code",
   "execution_count": 1,
   "metadata": {
    "scrolled": false
   },
   "outputs": [],
   "source": [
    "using LinearAlgebra\n",
    "using Plots\n",
    "using MLDatasets\n",
    "using Statistics\n",
    "using Random\n",
    "using Distances\n",
    "using Distributions\n",
    "using Roots\n",
    "using ArgParse\n",
    "using Clustering\n",
    "using Combinatorics\n",
    "using ProgressMeter\n",
    "using Dates\n",
    "using Printf\n",
    "import Sobol: next!\n",
    "using Sobol\n",
    "using DataFrames\n",
    "using CSV\n",
    "using TensorOperations\n",
    "using JLD\n",
    "using JuMP, Ipopt\n",
    "using Arpack\n",
    "using Optim\n",
    "# import NLopt.optimize!"
   ]
  },
  {
   "cell_type": "code",
   "execution_count": 2,
   "metadata": {},
   "outputs": [
    {
     "data": {
      "text/plain": [
       "gen_constraints (generic function with 1 method)"
      ]
     },
     "execution_count": 2,
     "metadata": {},
     "output_type": "execute_result"
    }
   ],
   "source": [
    "include(\"TSNE/myTSNE.jl\")\n",
    "include(\"kmeans_match_labels.jl\")\n",
    "include(\"spectral/spectral_clustering.jl\")\n",
    "include(\"spectral/spectral_reduction_main.jl\")\n",
    "include(\"./datastructs.jl\")"
   ]
  },
  {
   "cell_type": "code",
   "execution_count": 3,
   "metadata": {
    "scrolled": true
   },
   "outputs": [
    {
     "name": "stderr",
     "output_type": "stream",
     "text": [
      "┌ Info: Size of whole dataset: \n",
      "│   (size(data), size(label)) = ((4177, 7), (4177,))\n",
      "└ @ Main In[3]:10\n",
      "┌ Info: Size of testing data\n",
      "│   (size(X), size(y)) = ((4177, 7), (4177,))\n",
      "└ @ Main In[3]:29\n"
     ]
    },
    {
     "ename": "MethodError",
     "evalue": "MethodError: no method matching trainingData(::Array{Float64,2}, ::Array{Int64,1}, ::Float64)\nClosest candidates are:\n  trainingData(::Array{T,2}, ::Array{Int64,1}, !Matched::Int64; C) where T<:Float64 at /home/xz584/projects/learning_to_cluster/src/datastructs.jl:12",
     "output_type": "error",
     "traceback": [
      "MethodError: no method matching trainingData(::Array{Float64,2}, ::Array{Int64,1}, ::Float64)\nClosest candidates are:\n  trainingData(::Array{T,2}, ::Array{Int64,1}, !Matched::Int64; C) where T<:Float64 at /home/xz584/projects/learning_to_cluster/src/datastructs.jl:12",
      "",
      "Stacktrace:",
      " [1] top-level scope at In[3]:30"
     ]
    }
   ],
   "source": [
    "df = DataFrame(CSV.File(\"datasets/abalone.csv\", header = 0))\n",
    "data = convert(Matrix, df[:,2:8]) \n",
    "label = convert(Array, df[:, 9]) # 1 ~ 29\n",
    "k = 29\n",
    "\n",
    "randseed = 1234; rng = MersenneTwister(randseed)\n",
    "ind_shuffle = randperm(rng, size(data, 1))\n",
    "data = data[ind_shuffle, :]\n",
    "label = label[ind_shuffle]\n",
    "@info \"Size of whole dataset: \" size(data), size(label)\n",
    "\n",
    "n = 4177\n",
    "# X = data[1:n, :]\n",
    "# y = label[1:n]\n",
    "# d = size(X, 2)\n",
    "# @info \"Size of testing data\" size(X), size(y)\n",
    "\n",
    "# # select a fraction of X to be training data\n",
    "# trainratio = 0.1\n",
    "# ntrain = Int(floor(n*trainratio))\n",
    "# Xtrain = X[1:ntrain, :]\n",
    "# ytrain = y[1:ntrain]\n",
    "# idtrain = 1:ntrain\n",
    "# @info \"Size of training data\" size(Xtrain)\n",
    "\n",
    "testdata = testingData(data[1:n, :], label[1:n])\n",
    "X = testdata.X; y = testdata.y\n",
    "d = testdata.d\n",
    "@info \"Size of testing data\" size(X), size(y)\n",
    "traindata = trainingData(X, y, )\n",
    "ntrain = traindata.n\n",
    "Apm = traindata.Apm\n",
    "@info \"Size of training data\" size(traindata.X), size(traindata.y), typeof(traindata)\n"
   ]
  },
  {
   "cell_type": "code",
   "execution_count": 5,
   "metadata": {
    "scrolled": false
   },
   "outputs": [
    {
     "name": "stderr",
     "output_type": "stream",
     "text": [
      "┌ Info: size of Vhat and time cost\n",
      "│   (size(Vhat), timecost) = ((4177, 328), 79.31358)\n",
      "└ @ Main In[5]:20\n",
      "┌ Info: ((4177, 7), 7)\n",
      "└ @ Main In[5]:25\n",
      "┌ Info: [0.1 30.0; 0.1 30.0; 0.1 30.0; 0.1 30.0; 0.1 30.0; 0.1 30.0; 0.1 30.0]\n",
      "└ @ Main In[5]:26\n"
     ]
    }
   ],
   "source": [
    "# compute Vhat\n",
    "# @info \"Start computing Vhat\"\n",
    "# before = Dates.now()\n",
    "# Vhat, I_rows = comp_Vhat(X, k, rangeθ; N_sample = 1000) \n",
    "# m = size(Vhat, 2)\n",
    "# @assert m > k \n",
    "# after = Dates.now()\n",
    "# elapsedmin = round(((after - before) / Millisecond(1000))/60, digits=5)\n",
    "# @info \"Vhat size, time cost\", size(Vhat), elapsedmin\n",
    "# Vhat_set = (Vhat = Vhat, rangeθ = rangeθ, I_rows = I_rows, N_sample = 1000, timecost = elapsedmin)\n",
    "# save(\"Vhat_set1.jld\", \"data\", Vhat_set)\n",
    "\n",
    "\n",
    "# or load Vhat\n",
    "Vhat_set = load(\"./abalone/saved_data/Vhat_set_false_7_3.jld\")[\"data\"]\n",
    "Vhat = Vhat_set.Vhat\n",
    "timecost = Vhat_set.timecost\n",
    "I_rows = Vhat_set.I_rows\n",
    "m = size(Vhat, 2)\n",
    "@info \"size of Vhat and time cost\" size(Vhat), timecost\n",
    "\n",
    "rangeθ = Vhat_set.rangeθ\n",
    "dimθ = size(rangeθ, 1)\n",
    "ntotal = size(X)\n",
    "@info ntotal, dimθ\n",
    "@info rangeθ"
   ]
  },
  {
   "cell_type": "code",
   "execution_count": 6,
   "metadata": {
    "scrolled": true
   },
   "outputs": [
    {
     "data": {
      "text/plain": [
       "7-element Array{Float64,1}:\n",
       "  8.615441214581148\n",
       "  3.8976968904065314\n",
       " 23.30231033946253\n",
       " 23.333303862666202\n",
       " 26.368019869947048\n",
       "  9.884401487023242\n",
       " 16.5943254747634"
      ]
     },
     "execution_count": 6,
     "metadata": {},
     "output_type": "execute_result"
    }
   ],
   "source": [
    "θ_init = rand(dimθ) .* (rangeθ[:, 2] .- rangeθ[:, 1]) .+ rangeθ[:, 1]"
   ]
  },
  {
   "cell_type": "code",
   "execution_count": 7,
   "metadata": {
    "scrolled": false
   },
   "outputs": [
    {
     "ename": "UndefVarError",
     "evalue": "UndefVarError: loss not defined",
     "output_type": "error",
     "traceback": [
      "UndefVarError: loss not defined",
      "",
      "Stacktrace:",
      " [1] macro expansion at ./util.jl:175 [inlined]",
      " [2] top-level scope at ./In[7]:1"
     ]
    }
   ],
   "source": [
    "@time loss(θ_init)"
   ]
  },
  {
   "cell_type": "code",
   "execution_count": 8,
   "metadata": {
    "scrolled": true
   },
   "outputs": [
    {
     "ename": "UndefVarError",
     "evalue": "UndefVarError: loss_deriv not defined",
     "output_type": "error",
     "traceback": [
      "UndefVarError: loss_deriv not defined",
      "",
      "Stacktrace:",
      " [1] macro expansion at ./util.jl:175 [inlined]",
      " [2] top-level scope at ./In[8]:1"
     ]
    }
   ],
   "source": [
    "@time loss_deriv(θ_init)"
   ]
  },
  {
   "cell_type": "code",
   "execution_count": 9,
   "metadata": {},
   "outputs": [
    {
     "data": {
      "text/plain": [
       "loss7_deriv! (generic function with 1 method)"
      ]
     },
     "execution_count": 9,
     "metadata": {},
     "output_type": "execute_result"
    }
   ],
   "source": [
    "loss(θ) = loss_fun_reduction(X, k, θ, traindata, Vhat; if_deriv = false)[1] \n",
    "loss_deriv(θ) = loss_fun_reduction(X, k, θ, traindata, Vhat)[2] \n",
    "function loss_deriv!(g, θ)\n",
    "    g = loss_deriv(θ)\n",
    "end\n",
    "function loss7(θ)\n",
    "#     θ7 = [θ1,θ2, θ3, θ4, θ5, θ6, θ7]\n",
    "    θ7 = [θ[1], θ[2], θ[3], θ[4], θ[5], θ[6], θ[7]]\n",
    "    return loss(θ7)\n",
    "end\n",
    "function loss7_deriv!(g, θ)\n",
    "#     θ7 = [θ1,θ2, θ3, θ4, θ5, θ6, θ7]\n",
    "    θ7 = [θ[1], θ[2], θ[3], θ[4], θ[5], θ[6], θ[7]]\n",
    "    dd = loss_deriv(θ7)\n",
    "    g[1] = dd[1]\n",
    "    g[2] = dd[2]\n",
    "    g[3] = dd[3]\n",
    "    g[4] = dd[4]\n",
    "    g[5] = dd[5]\n",
    "    g[6] = dd[6]\n",
    "    g[7] = dd[7]\n",
    "#     g = loss_deriv(θ7)\n",
    "end"
   ]
  },
  {
   "cell_type": "code",
   "execution_count": 185,
   "metadata": {},
   "outputs": [],
   "source": [
    "# θ_init = rand(dimθ) .* (rangeθ[:, 2] .- rangeθ[:, 1]) .+ rangeθ[:, 1]\n",
    "# model = Model(Ipopt.Optimizer)\n",
    "# @variable(model, rangeθ[1, 1] <= θ1 <= rangeθ[1, 2])\n",
    "# @variable(model, rangeθ[2, 1] <= θ2 <= rangeθ[2, 2])\n",
    "# @variable(model, rangeθ[3, 1] <= θ3 <= rangeθ[3, 2])\n",
    "# @variable(model, rangeθ[4, 1] <= θ4 <= rangeθ[4, 2])\n",
    "# @variable(model, rangeθ[5, 1] <= θ5 <= rangeθ[5, 2])\n",
    "# @variable(model, rangeθ[6, 1] <= θ6 <= rangeθ[6, 2])\n",
    "# @variable(model, rangeθ[7, 1] <= θ7 <= rangeθ[7, 2])\n",
    "\n",
    "# set_start_value(θ1, θ_init[1])\n",
    "# set_start_value(θ2, θ_init[2])\n",
    "# set_start_value(θ3, θ_init[3])\n",
    "# set_start_value(θ4, θ_init[4])\n",
    "# set_start_value(θ5, θ_init[5])\n",
    "# set_start_value(θ6, θ_init[6])\n",
    "# set_start_value(θ7, θ_init[7])\n",
    "\n",
    "# register(model, :loss7, 7, loss7, loss7_deriv)\n",
    "# # register(model, :loss7, 7, loss7, autodiff=true)\n",
    "# @NLobjective(model, Min, loss7(θ...))\n",
    "\n",
    "# @info \"θ_init = $θ_init\"\n",
    "# @info \"Start optimization...\"\n",
    "# JuMP.optimize!(model)"
   ]
  },
  {
   "cell_type": "code",
   "execution_count": 186,
   "metadata": {
    "scrolled": false
   },
   "outputs": [],
   "source": [
    "# # use JUMP\n",
    "# θ_init = rand(dimθ) .* (rangeθ[:, 2] .- rangeθ[:, 1]) .+ rangeθ[:, 1]\n",
    "# model = Model(Ipopt.Optimizer)\n",
    "# @variable(model, rangeθ[i, 1] <= θ[i=1:7] <= rangeθ[i, 2])\n",
    "# register(model, :loss7, 7, loss7, loss7_deriv; autodiff = false)\n",
    "# @NLobjective(model, Min, loss7(θ...))\n",
    "# set_start_value(θ[1], θ_init[1])\n",
    "# set_start_value(θ[2], θ_init[2])\n",
    "# set_start_value(θ[3], θ_init[3])\n",
    "# set_start_value(θ[4], θ_init[4])\n",
    "# set_start_value(θ[5], θ_init[5])\n",
    "# set_start_value(θ[6], θ_init[6])\n",
    "# set_start_value(θ[7], θ_init[7])\n",
    "# @info \"θ_init = $θ_init\"\n",
    "# @info \"Start optimization...\"\n",
    "# JuMP.optimize!(model)"
   ]
  },
  {
   "cell_type": "code",
   "execution_count": 187,
   "metadata": {
    "scrolled": false
   },
   "outputs": [
    {
     "ename": "ArgumentError",
     "evalue": "ArgumentError: Value and slope at step length = 0 must be finite.",
     "output_type": "error",
     "traceback": [
      "ArgumentError: Value and slope at step length = 0 must be finite.",
      "",
      "Stacktrace:",
      " [1] (::LineSearches.HagerZhang{Float64,Base.RefValue{Bool}})(::Function, ::LineSearches.var\"#ϕdϕ#6\"{Optim.ManifoldObjective{OnceDifferentiable{Float64,Array{Float64,1},Array{Float64,1}}},Array{Float64,1},Array{Float64,1},Array{Float64,1}}, ::Float64, ::Float64, ::Float64) at /home/xz584/.julia/packages/LineSearches/WrsMD/src/hagerzhang.jl:117",
      " [2] HagerZhang at /home/xz584/.julia/packages/LineSearches/WrsMD/src/hagerzhang.jl:101 [inlined]",
      " [3] perform_linesearch!(::Optim.LBFGSState{Array{Float64,1},Array{Array{Float64,1},1},Array{Array{Float64,1},1},Float64,Array{Float64,1}}, ::LBFGS{Optim.InverseDiagonal,LineSearches.InitialStatic{Float64},LineSearches.HagerZhang{Float64,Base.RefValue{Bool}},Optim.var\"#62#68\"{Array{Float64,1},Array{Float64,1},Fminbox{LBFGS{Nothing,LineSearches.InitialStatic{Float64},LineSearches.HagerZhang{Float64,Base.RefValue{Bool}},Optim.var\"#19#21\"},Float64,Optim.var\"#43#45\"},Base.RefValue{Float64}}}, ::Optim.ManifoldObjective{OnceDifferentiable{Float64,Array{Float64,1},Array{Float64,1}}}) at /home/xz584/.julia/packages/Optim/UkDyx/src/utilities/perform_linesearch.jl:53",
      " [4] update_state!(::OnceDifferentiable{Float64,Array{Float64,1},Array{Float64,1}}, ::Optim.LBFGSState{Array{Float64,1},Array{Array{Float64,1},1},Array{Array{Float64,1},1},Float64,Array{Float64,1}}, ::LBFGS{Optim.InverseDiagonal,LineSearches.InitialStatic{Float64},LineSearches.HagerZhang{Float64,Base.RefValue{Bool}},Optim.var\"#62#68\"{Array{Float64,1},Array{Float64,1},Fminbox{LBFGS{Nothing,LineSearches.InitialStatic{Float64},LineSearches.HagerZhang{Float64,Base.RefValue{Bool}},Optim.var\"#19#21\"},Float64,Optim.var\"#43#45\"},Base.RefValue{Float64}}}) at /home/xz584/.julia/packages/Optim/UkDyx/src/multivariate/solvers/first_order/l_bfgs.jl:198",
      " [5] optimize(::OnceDifferentiable{Float64,Array{Float64,1},Array{Float64,1}}, ::Array{Float64,1}, ::LBFGS{Optim.InverseDiagonal,LineSearches.InitialStatic{Float64},LineSearches.HagerZhang{Float64,Base.RefValue{Bool}},Optim.var\"#62#68\"{Array{Float64,1},Array{Float64,1},Fminbox{LBFGS{Nothing,LineSearches.InitialStatic{Float64},LineSearches.HagerZhang{Float64,Base.RefValue{Bool}},Optim.var\"#19#21\"},Float64,Optim.var\"#43#45\"},Base.RefValue{Float64}}}, ::Optim.Options{Float64,Nothing}, ::Optim.LBFGSState{Array{Float64,1},Array{Array{Float64,1},1},Array{Array{Float64,1},1},Float64,Array{Float64,1}}) at /home/xz584/.julia/packages/Optim/UkDyx/src/multivariate/optimize/optimize.jl:57",
      " [6] optimize(::OnceDifferentiable{Float64,Array{Float64,1},Array{Float64,1}}, ::Array{Float64,1}, ::LBFGS{Optim.InverseDiagonal,LineSearches.InitialStatic{Float64},LineSearches.HagerZhang{Float64,Base.RefValue{Bool}},Optim.var\"#62#68\"{Array{Float64,1},Array{Float64,1},Fminbox{LBFGS{Nothing,LineSearches.InitialStatic{Float64},LineSearches.HagerZhang{Float64,Base.RefValue{Bool}},Optim.var\"#19#21\"},Float64,Optim.var\"#43#45\"},Base.RefValue{Float64}}}, ::Optim.Options{Float64,Nothing}) at /home/xz584/.julia/packages/Optim/UkDyx/src/multivariate/optimize/optimize.jl:33",
      " [7] optimize(::OnceDifferentiable{Float64,Array{Float64,1},Array{Float64,1}}, ::Array{Float64,1}, ::Array{Float64,1}, ::Array{Float64,1}, ::Fminbox{LBFGS{Nothing,LineSearches.InitialStatic{Float64},LineSearches.HagerZhang{Float64,Base.RefValue{Bool}},Optim.var\"#19#21\"},Float64,Optim.var\"#43#45\"}, ::Optim.Options{Float64,Nothing}) at /home/xz584/.julia/packages/Optim/UkDyx/src/multivariate/solvers/constrained/fminbox.jl:283",
      " [8] #optimize#47 at /home/xz584/.julia/packages/Optim/UkDyx/src/multivariate/solvers/constrained/fminbox.jl:153 [inlined]",
      " [9] optimize at /home/xz584/.julia/packages/Optim/UkDyx/src/multivariate/solvers/constrained/fminbox.jl:150 [inlined] (repeats 2 times)",
      " [10] top-level scope at In[187]:3"
     ]
    }
   ],
   "source": [
    "# using Optim\n",
    "inner_optimizer = LBFGS()\n",
    "results = Optim.optimize(loss, loss_deriv!, rangeθ[:,1], rangeθ[:,2], θ_init, Fminbox(inner_optimizer))\n",
    "θ = Optim.minimizer(results)"
   ]
  },
  {
   "cell_type": "code",
   "execution_count": null,
   "metadata": {},
   "outputs": [],
   "source": []
  },
  {
   "cell_type": "code",
   "execution_count": null,
   "metadata": {},
   "outputs": [],
   "source": []
  },
  {
   "cell_type": "code",
   "execution_count": null,
   "metadata": {},
   "outputs": [],
   "source": []
  },
  {
   "cell_type": "code",
   "execution_count": null,
   "metadata": {},
   "outputs": [],
   "source": []
  },
  {
   "cell_type": "code",
   "execution_count": 27,
   "metadata": {
    "scrolled": true
   },
   "outputs": [],
   "source": [
    "L, _ = laplacian_L(X, θ; if_deriv=false) \n",
    "H = I_rows == nothing ?  Vhat' * L * Vhat : (Vhat[I_rows, :])' * (L[I_rows, ] * Vhat)\n",
    "@assert size(H) == (m, m) "
   ]
  },
  {
   "cell_type": "code",
   "execution_count": 30,
   "metadata": {},
   "outputs": [
    {
     "name": "stderr",
     "output_type": "stream",
     "text": [
      "┌ Info: (156, 29)\n",
      "└ @ Main In[30]:4\n"
     ]
    }
   ],
   "source": [
    "# compute Y, k largest eigenvectors of H\n",
    "ef = eigen(Symmetric(H), m-k+1:m)\n",
    "Y = ef.vectors\n",
    "@info size(Y)"
   ]
  },
  {
   "cell_type": "code",
   "execution_count": 31,
   "metadata": {
    "scrolled": true
   },
   "outputs": [
    {
     "name": "stdout",
     "output_type": "stream",
     "text": [
      "  Iters               objv        objv-change | affected \n",
      "-------------------------------------------------------------\n",
      "      0       1.644388e+01\n",
      "      1       1.186057e+01      -4.583318e+00 |       26\n",
      "      2       1.099561e+01      -8.649586e-01 |       25\n",
      "      3       1.084326e+01      -1.523509e-01 |       18\n",
      "      4       1.078773e+01      -5.552359e-02 |       15\n",
      "      5       1.076699e+01      -2.074553e-02 |       13\n",
      "      6       1.075254e+01      -1.444404e-02 |       12\n",
      "      7       1.073694e+01      -1.560151e-02 |       13\n",
      "      8       1.072220e+01      -1.474449e-02 |       15\n",
      "      9       1.070162e+01      -2.058171e-02 |       14\n",
      "     10       1.068273e+01      -1.889056e-02 |       15\n",
      "     11       1.066043e+01      -2.229761e-02 |       14\n",
      "     12       1.064022e+01      -2.021263e-02 |       11\n",
      "     13       1.062779e+01      -1.242714e-02 |       12\n",
      "     14       1.061785e+01      -9.939768e-03 |       10\n",
      "     15       1.060827e+01      -9.574211e-03 |       11\n",
      "     16       1.059840e+01      -9.871957e-03 |       11\n",
      "     17       1.059003e+01      -8.376070e-03 |       10\n",
      "     18       1.058130e+01      -8.723716e-03 |       10\n",
      "     19       1.057523e+01      -6.077385e-03 |       11\n",
      "     20       1.057103e+01      -4.197482e-03 |        9\n",
      "     21       1.056619e+01      -4.840272e-03 |       10\n",
      "     22       1.056133e+01      -4.860327e-03 |       11\n",
      "     23       1.055728e+01      -4.050250e-03 |       10\n",
      "     24       1.055488e+01      -2.398379e-03 |        9\n",
      "     25       1.055308e+01      -1.797040e-03 |        9\n",
      "     26       1.055205e+01      -1.028871e-03 |        9\n",
      "     27       1.055138e+01      -6.756941e-04 |        9\n",
      "     28       1.055098e+01      -3.972354e-04 |        7\n",
      "     29       1.055065e+01      -3.318887e-04 |        6\n",
      "     30       1.055053e+01      -1.212491e-04 |        4\n",
      "     31       1.055047e+01      -5.338639e-05 |        4\n",
      "     32       1.055044e+01      -3.185521e-05 |        4\n",
      "     33       1.055038e+01      -6.240745e-05 |        2\n",
      "     34       1.055037e+01      -1.405721e-05 |        3\n",
      "     35       1.055033e+01      -3.584417e-05 |        5\n",
      "     36       1.055024e+01      -9.217161e-05 |        2\n",
      "     37       1.055021e+01      -2.762962e-05 |        0\n",
      "     38       1.055021e+01       0.000000e+00 |        0\n",
      "K-means converged with 38 iterations (objv = 10.550209799408838)\n"
     ]
    },
    {
     "name": "stderr",
     "output_type": "stream",
     "text": [
      "┌ Info: (4177,)\n",
      "└ @ Main In[31]:2\n"
     ]
    }
   ],
   "source": [
    "a =  kmeans_reduction(Vhat, Y, k; maxiter = 200)\n",
    "@info size(a)"
   ]
  },
  {
   "cell_type": "code",
   "execution_count": 32,
   "metadata": {},
   "outputs": [
    {
     "data": {
      "text/plain": [
       "0.19946808510638298"
      ]
     },
     "execution_count": 32,
     "metadata": {},
     "output_type": "execute_result"
    }
   ],
   "source": [
    "max_acc, matched_assignment = bipartite_match_labels(a, y, k; ntrain = ntrain)\n",
    "max_acc"
   ]
  },
  {
   "cell_type": "code",
   "execution_count": 33,
   "metadata": {},
   "outputs": [
    {
     "data": {
      "text/plain": [
       "(0.058294958412671585, 0.8449332948441471, 0.1550667051558529, 0.6898665896882942)"
      ]
     },
     "execution_count": 33,
     "metadata": {},
     "output_type": "execute_result"
    }
   ],
   "source": [
    "RI = randindex(matched_assignment[ntrain+1:end], y[ntrain+1:end])"
   ]
  },
  {
   "cell_type": "code",
   "execution_count": null,
   "metadata": {},
   "outputs": [],
   "source": []
  },
  {
   "cell_type": "code",
   "execution_count": null,
   "metadata": {},
   "outputs": [],
   "source": []
  },
  {
   "cell_type": "code",
   "execution_count": null,
   "metadata": {},
   "outputs": [],
   "source": []
  },
  {
   "cell_type": "code",
   "execution_count": null,
   "metadata": {},
   "outputs": [],
   "source": []
  }
 ],
 "metadata": {
  "kernelspec": {
   "display_name": "Julia 1.4.1",
   "language": "julia",
   "name": "julia-1.4"
  },
  "language_info": {
   "file_extension": ".jl",
   "mimetype": "application/julia",
   "name": "julia",
   "version": "1.4.1"
  }
 },
 "nbformat": 4,
 "nbformat_minor": 4
}
