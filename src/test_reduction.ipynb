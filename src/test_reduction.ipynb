{
 "cells": [
  {
   "cell_type": "code",
   "execution_count": 38,
   "metadata": {
    "scrolled": false
   },
   "outputs": [],
   "source": [
    "using LinearAlgebra\n",
    "using Plots\n",
    "using MLDatasets\n",
    "using Statistics\n",
    "using Random\n",
    "using Distances\n",
    "using Distributions\n",
    "using Roots\n",
    "using ArgParse\n",
    "using Clustering\n",
    "using Combinatorics\n",
    "using ProgressMeter\n",
    "using Dates\n",
    "using Printf\n",
    "import Sobol: next!\n",
    "using Sobol\n",
    "using DataFrames\n",
    "using CSV\n",
    "using TensorOperations\n",
    "using JLD\n",
    "using JuMP, Ipopt\n",
    "using Arpack\n",
    "# import NLopt.optimize!"
   ]
  },
  {
   "cell_type": "code",
   "execution_count": 49,
   "metadata": {},
   "outputs": [],
   "source": [
    "include(\"TSNE/myTSNE.jl\")\n",
    "include(\"kmeans_match_labels.jl\")\n",
    "include(\"spectral/spectral_clustering.jl\")\n",
    "include(\"spectral/spectral_reduction_main.jl\")\n",
    "include(\"spectral/helpers.jl\")\n",
    "include(\"./datastructs.jl\")"
   ]
  },
  {
   "cell_type": "code",
   "execution_count": 20,
   "metadata": {},
   "outputs": [
    {
     "name": "stderr",
     "output_type": "stream",
     "text": [
      "┌ Info: Size of whole dataset: \n",
      "│   (size(data), size(label)) = ((4177, 7), (4177,))\n",
      "└ @ Main In[20]:10\n",
      "┌ Info: Size of testing data\n",
      "│   (size(X), size(y)) = ((4177, 7), (4177,))\n",
      "└ @ Main In[20]:29\n",
      "┌ Info: Size of training data\n",
      "│   (size(traindata.X), size(traindata.y), typeof(traindata)) = ((417, 7), (417,), trainingData)\n",
      "└ @ Main In[20]:33\n"
     ]
    }
   ],
   "source": [
    "df = DataFrame(CSV.File(\"datasets/abalone.csv\", header = 0))\n",
    "data = convert(Matrix, df[:,2:8]) \n",
    "label = convert(Array, df[:, 9]) # 1 ~ 29\n",
    "k = 29\n",
    "\n",
    "randseed = 1234; rng = MersenneTwister(randseed)\n",
    "ind_shuffle = randperm(rng, size(data, 1))\n",
    "data = data[ind_shuffle, :]\n",
    "label = label[ind_shuffle]\n",
    "@info \"Size of whole dataset: \" size(data), size(label)\n",
    "\n",
    "n = 4177\n",
    "# X = data[1:n, :]\n",
    "# y = label[1:n]\n",
    "# d = size(X, 2)\n",
    "# @info \"Size of testing data\" size(X), size(y)\n",
    "\n",
    "# # select a fraction of X to be training data\n",
    "# trainratio = 0.1\n",
    "# ntrain = Int(floor(n*trainratio))\n",
    "# Xtrain = X[1:ntrain, :]\n",
    "# ytrain = y[1:ntrain]\n",
    "# idtrain = 1:ntrain\n",
    "# @info \"Size of training data\" size(Xtrain)\n",
    "\n",
    "testdata = testingData(data[1:n, :], label[1:n])\n",
    "X = testdata.X; y = testdata.y\n",
    "d = testdata.d\n",
    "@info \"Size of testing data\" size(X), size(y)\n",
    "traindata = trainingData(X, y, 0.1)\n",
    "ntrain = traindata.n\n",
    "Apm = traindata.Apm\n",
    "@info \"Size of training data\" size(traindata.X), size(traindata.y), typeof(traindata)\n"
   ]
  },
  {
   "cell_type": "code",
   "execution_count": 18,
   "metadata": {
    "scrolled": false
   },
   "outputs": [
    {
     "name": "stderr",
     "output_type": "stream",
     "text": [
      "┌ Info: size of Vhat and time cost\n",
      "│   (size(Vhat), timecost) = ((4177, 785), 29.48315)\n",
      "└ @ Main In[18]:20\n",
      "┌ Info: ((4177, 7), 7)\n",
      "└ @ Main In[18]:25\n",
      "┌ Info: [1.0 1000.0; 1.0 1000.0; 1.0 1000.0; 1.0 1000.0; 1.0 1000.0; 1.0 1000.0; 1.0 1000.0]\n",
      "└ @ Main In[18]:26\n"
     ]
    }
   ],
   "source": [
    "# compute Vhat\n",
    "# @info \"Start computing Vhat\"\n",
    "# before = Dates.now()\n",
    "# Vhat, I_rows = comp_Vhat(X, k, rangeθ; N_sample = 1000) \n",
    "# m = size(Vhat, 2)\n",
    "# @assert m > k \n",
    "# after = Dates.now()\n",
    "# elapsedmin = round(((after - before) / Millisecond(1000))/60, digits=5)\n",
    "# @info \"Vhat size, time cost\", size(Vhat), elapsedmin\n",
    "# Vhat_set = (Vhat = Vhat, rangeθ = rangeθ, I_rows = I_rows, N_sample = 1000, timecost = elapsedmin)\n",
    "# save(\"Vhat_set1.jld\", \"data\", Vhat_set)\n",
    "\n",
    "\n",
    "# or load Vhat\n",
    "Vhat_set = load(\"./abalone/saved_data/Vhat_set_false_5_2.jld\")[\"data\"]\n",
    "Vhat = Vhat_set.Vhat\n",
    "timecost = Vhat_set.timecost\n",
    "I_rows = Vhat_set.I_rows\n",
    "m = size(Vhat, 2)\n",
    "@info \"size of Vhat and time cost\" size(Vhat), timecost\n",
    "\n",
    "rangeθ = Vhat_set.rangeθ\n",
    "dimθ = size(rangeθ, 1)\n",
    "ntotal = size(X)\n",
    "@info ntotal, dimθ\n",
    "@info rangeθ"
   ]
  },
  {
   "cell_type": "code",
   "execution_count": 24,
   "metadata": {},
   "outputs": [
    {
     "data": {
      "text/plain": [
       "loss7_deriv (generic function with 1 method)"
      ]
     },
     "execution_count": 24,
     "metadata": {},
     "output_type": "execute_result"
    }
   ],
   "source": [
    "loss(θ::Vector) = loss_fun_reduction(X, k, θ, traindata, Vhat; if_deriv = false)[1] \n",
    "loss_deriv(θ::Vector) = loss_fun_reduction(X, k, θ, traindata, Vhat)[2] \n",
    "function loss7(θ...)\n",
    "    θ7 = [θ[1], θ[2], θ[3], θ[4], θ[5], θ[6], θ[7]]\n",
    "    return loss(θ7)\n",
    "end\n",
    "function loss7_deriv(θ...)\n",
    "    θ7 = [θ[1], θ[2], θ[3], θ[4], θ[5], θ[6], θ[7]]\n",
    "    return loss_deriv(θ7)\n",
    "end"
   ]
  },
  {
   "cell_type": "code",
   "execution_count": 22,
   "metadata": {
    "scrolled": true
   },
   "outputs": [
    {
     "data": {
      "text/plain": [
       "7-element Array{Float64,1}:\n",
       " 609.9052237428551\n",
       " 280.05967276308314\n",
       " 199.03776196486814\n",
       " 943.1739006535555\n",
       " 782.0655417681371\n",
       " 960.9868479268466\n",
       " 996.1885293530976"
      ]
     },
     "execution_count": 22,
     "metadata": {},
     "output_type": "execute_result"
    }
   ],
   "source": [
    "θ_init = rand(dimθ) .* (rangeθ[:, 2] .- rangeθ[:, 1]) .+ rangeθ[:, 1]"
   ]
  },
  {
   "cell_type": "code",
   "execution_count": 47,
   "metadata": {
    "scrolled": true
   },
   "outputs": [
    {
     "name": "stderr",
     "output_type": "stream",
     "text": [
      "┌ Info: Evaluate loss func, current θ\n",
      "│   θ = [609.9052237428551, 280.05967276308314, 199.03776196486814, 943.1739006535555, 782.0655417681371, 960.9868479268466, 996.1885293530976]\n",
      "└ @ Main /home/xz584/projects/learning_to_cluster/src/spectral/spectral_reduction_main.jl:150\n"
     ]
    },
    {
     "name": "stdout",
     "output_type": "stream",
     "text": [
      " 22.236551 seconds (2.06 M allocations: 672.513 MiB)\n"
     ]
    },
    {
     "data": {
      "text/plain": [
       "-774.7439918937022"
      ]
     },
     "execution_count": 47,
     "metadata": {},
     "output_type": "execute_result"
    }
   ],
   "source": [
    "@time loss(θ_init)"
   ]
  },
  {
   "cell_type": "code",
   "execution_count": 50,
   "metadata": {
    "scrolled": false
   },
   "outputs": [
    {
     "name": "stderr",
     "output_type": "stream",
     "text": [
      "┌ Info: Evaluate loss func, current θ\n",
      "│   θ = [609.9052237428551, 280.05967276308314, 199.03776196486814, 943.1739006535555, 782.0655417681371, 960.9868479268466, 996.1885293530976]\n",
      "└ @ Main /home/xz584/projects/learning_to_cluster/src/spectral/spectral_reduction_main.jl:150\n"
     ]
    },
    {
     "name": "stdout",
     "output_type": "stream",
     "text": [
      " 50.266831 seconds (2.29 M allocations: 10.897 GiB, 0.61% gc time)\n"
     ]
    },
    {
     "data": {
      "text/plain": [
       "7-element Array{Float64,1}:\n",
       " -799.6439628211542\n",
       " -799.6386053629052\n",
       " -799.6365216929555\n",
       " -799.641459005841\n",
       " -799.6930131117446\n",
       " -799.6795055593509\n",
       " -799.660798391816"
      ]
     },
     "execution_count": 50,
     "metadata": {},
     "output_type": "execute_result"
    }
   ],
   "source": [
    "@time loss_deriv(θ_init)"
   ]
  },
  {
   "cell_type": "code",
   "execution_count": null,
   "metadata": {},
   "outputs": [],
   "source": []
  },
  {
   "cell_type": "code",
   "execution_count": 19,
   "metadata": {
    "scrolled": true
   },
   "outputs": [
    {
     "data": {
      "text/latex": [
       "$$ \\begin{alignat*}{1}\\text{feasibility}\\\\\n",
       "\\text{Subject to} \\quad\\end{alignat*}\n",
       " $$"
      ],
      "text/plain": [
       "A JuMP Model\n",
       "Feasibility problem with:\n",
       "Variables: 0\n",
       "Model mode: AUTOMATIC\n",
       "CachingOptimizer state: EMPTY_OPTIMIZER\n",
       "Solver name: Ipopt"
      ]
     },
     "execution_count": 19,
     "metadata": {},
     "output_type": "execute_result"
    }
   ],
   "source": [
    "# use JUMP\n",
    "model = Model(Ipopt.Optimizer)\n",
    "# set_optimizer(model, NLopt.Optimizer)"
   ]
  },
  {
   "cell_type": "code",
   "execution_count": 20,
   "metadata": {},
   "outputs": [],
   "source": [
    "register(model, :loss7, 7, loss7, loss7_deriv)"
   ]
  },
  {
   "cell_type": "code",
   "execution_count": 21,
   "metadata": {},
   "outputs": [
    {
     "data": {
      "text/plain": [
       "7-element Array{VariableRef,1}:\n",
       " θ[1]\n",
       " θ[2]\n",
       " θ[3]\n",
       " θ[4]\n",
       " θ[5]\n",
       " θ[6]\n",
       " θ[7]"
      ]
     },
     "execution_count": 21,
     "metadata": {},
     "output_type": "execute_result"
    }
   ],
   "source": [
    "@variable(model, 0.1 <= θ[1:7] <= 1500.)"
   ]
  },
  {
   "cell_type": "code",
   "execution_count": 22,
   "metadata": {},
   "outputs": [],
   "source": [
    "@NLobjective(model, Min, loss7(θ...))"
   ]
  },
  {
   "cell_type": "code",
   "execution_count": 23,
   "metadata": {
    "scrolled": true
   },
   "outputs": [
    {
     "name": "stderr",
     "output_type": "stream",
     "text": [
      "┌ Info: Evaluate loss func, current θ\n",
      "│   θ = [0.0, 0.0, 0.0, 0.0, 0.0, 0.0, 0.0]\n",
      "└ @ Main /home/xz584/projects/learning_to_cluster/src/spectral/spectral_reduction_main.jl:141\n",
      "┌ Info: Evaluate loss func, current θ\n",
      "│   θ = Any[[0.0, 0.0, 0.0, 0.0, 0.0, 0.0, 0.0], 0.0, 0.0, 0.0, 0.0, 0.0, 0.0]\n",
      "└ @ Main /home/xz584/projects/learning_to_cluster/src/spectral/spectral_reduction_main.jl:141\n"
     ]
    },
    {
     "name": "stdout",
     "output_type": "stream",
     "text": [
      "This is Ipopt version 3.12.10, running with linear solver mumps.\n",
      "NOTE: Other linear solvers might be more efficient (see Ipopt documentation).\n",
      "\n",
      "Number of nonzeros in equality constraint Jacobian...:        0\n",
      "Number of nonzeros in inequality constraint Jacobian.:        0\n",
      "Number of nonzeros in Lagrangian Hessian.............:        0\n",
      "\n"
     ]
    },
    {
     "ename": "MethodError",
     "evalue": "MethodError: no method matching WeightedSqEuclidean(::Array{Any,1})\nClosest candidates are:\n  WeightedSqEuclidean(!Matched::W) where W<:(AbstractArray{T,N} where N where T<:Real) at /home/xz584/.julia/packages/Distances/jwhuc/src/wmetrics.jl:17",
     "output_type": "error",
     "traceback": [
      "MethodError: no method matching WeightedSqEuclidean(::Array{Any,1})\nClosest candidates are:\n  WeightedSqEuclidean(!Matched::W) where W<:(AbstractArray{T,N} where N where T<:Real) at /home/xz584/.julia/packages/Distances/jwhuc/src/wmetrics.jl:17",
      "",
      "Stacktrace:",
      " [1] distance(::Gaussian, ::Array{Any,1}) at /home/xz584/projects/learning_to_cluster/src/kernels/kernels.jl:121",
      " [2] correlation!(::Array{Float64,2}, ::Gaussian, ::Array{Any,1}, ::Array{Float64,2}; jitter::Int64, dims::Int64) at /home/xz584/projects/learning_to_cluster/src/kernels/kernels.jl:87",
      " [3] correlation(::Gaussian, ::Array{Any,1}, ::Array{Float64,2}; jitter::Int64, dims::Int64) at /home/xz584/projects/learning_to_cluster/src/kernels/kernels.jl:67",
      " [4] correlation(::Gaussian, ::Array{Any,1}, ::Array{Float64,2}) at /home/xz584/projects/learning_to_cluster/src/kernels/kernels.jl:66",
      " [5] affinity_A(::Array{Float64,2}, ::Array{Any,1}; if_deriv::Bool) at /home/xz584/projects/learning_to_cluster/src/spectral/comp_deriv.jl:14",
      " [6] degree_D(::Array{Float64,2}, ::Array{Any,1}; if_deriv::Bool) at /home/xz584/projects/learning_to_cluster/src/spectral/comp_deriv.jl:54",
      " [7] laplacian_L(::Array{Float64,2}, ::Array{Any,1}; I_rows::Nothing, if_deriv::Bool) at /home/xz584/projects/learning_to_cluster/src/spectral/comp_deriv.jl:66",
      " [8] loss_fun_reduction(::Array{Any,1}, ::Array{Float64,2}, ::Array{Float64,2}, ::UnitRange{Int64}, ::Symmetric{Float64,Array{Float64,2}}, ::Int64, ::Array{Float64,2}; I_rows::Nothing, if_deriv::Bool) at /home/xz584/projects/learning_to_cluster/src/spectral/spectral_reduction_main.jl:146",
      " [9] loss_fun_reduction(::Array{Any,1}, ::Array{Float64,2}, ::Array{Float64,2}, ::UnitRange{Int64}, ::Symmetric{Float64,Array{Float64,2}}, ::Int64, ::Array{Float64,2}) at /home/xz584/projects/learning_to_cluster/src/spectral/spectral_reduction_main.jl:141",
      " [10] loss_deriv(::Array{Any,1}) at ./In[18]:2",
      " [11] loss7_deriv(::SubArray{Float64,1,Array{Float64,1},Tuple{UnitRange{Int64}},true}, ::Vararg{Any,N} where N) at ./In[18]:9",
      " [12] (::JuMP.var\"#117#120\"{typeof(loss7_deriv)})(::SubArray{Float64,1,Array{Float64,1},Tuple{UnitRange{Int64}},true}, ::SubArray{Float64,1,Array{Float64,1},Tuple{UnitRange{Int64}},true}) at /home/xz584/.julia/packages/JuMP/MnJQc/src/nlp.jl:1184",
      " [13] eval_objective_gradient(::JuMP._UserFunctionEvaluator, ::SubArray{Float64,1,Array{Float64,1},Tuple{UnitRange{Int64}},true}, ::SubArray{Float64,1,Array{Float64,1},Tuple{UnitRange{Int64}},true}) at /home/xz584/.julia/packages/JuMP/MnJQc/src/nlp.jl:1147",
      " [14] forward_eval(::Array{Float64,1}, ::Array{Float64,1}, ::Array{JuMP._Derivatives.NodeData,1}, ::SparseMatrixCSC{Bool,Int64}, ::Array{Float64,1}, ::Array{Float64,1}, ::Array{Float64,1}, ::Array{Float64,1}, ::Array{Float64,1}, ::Array{Float64,1}, ::JuMP._Derivatives.UserOperatorRegistry) at /home/xz584/.julia/packages/JuMP/MnJQc/src/_Derivatives/forward.jl:165",
      " [15] _forward_eval_all(::NLPEvaluator, ::Array{Float64,1}) at /home/xz584/.julia/packages/JuMP/MnJQc/src/nlp.jl:503",
      " [16] macro expansion at /home/xz584/.julia/packages/JuMP/MnJQc/src/nlp.jl:552 [inlined]",
      " [17] macro expansion at ./util.jl:234 [inlined]",
      " [18] eval_objective_gradient(::NLPEvaluator, ::Array{Float64,1}, ::Array{Float64,1}) at /home/xz584/.julia/packages/JuMP/MnJQc/src/nlp.jl:550",
      " [19] eval_objective_gradient(::Ipopt.Optimizer, ::Array{Float64,1}, ::Array{Float64,1}) at /home/xz584/.julia/packages/Ipopt/ruIXY/src/MOI_wrapper.jl:618",
      " [20] (::Ipopt.var\"#eval_grad_f_cb#28\"{Ipopt.Optimizer})(::Array{Float64,1}, ::Array{Float64,1}) at /home/xz584/.julia/packages/Ipopt/ruIXY/src/MOI_wrapper.jl:814",
      " [21] eval_grad_f_wrapper(::Int32, ::Ptr{Float64}, ::Int32, ::Ptr{Float64}, ::Ptr{Nothing}) at /home/xz584/.julia/packages/Ipopt/ruIXY/src/Ipopt.jl:148",
      " [22] solveProblem(::IpoptProblem) at /home/xz584/.julia/packages/Ipopt/ruIXY/src/Ipopt.jl:342",
      " [23] optimize!(::Ipopt.Optimizer) at /home/xz584/.julia/packages/Ipopt/ruIXY/src/MOI_wrapper.jl:914",
      " [24] optimize!(::MathOptInterface.Bridges.LazyBridgeOptimizer{Ipopt.Optimizer}) at /home/xz584/.julia/packages/MathOptInterface/RmalA/src/Bridges/bridge_optimizer.jl:239",
      " [25] optimize!(::MathOptInterface.Utilities.CachingOptimizer{MathOptInterface.AbstractOptimizer,MathOptInterface.Utilities.UniversalFallback{MathOptInterface.Utilities.Model{Float64}}}) at /home/xz584/.julia/packages/MathOptInterface/RmalA/src/Utilities/cachingoptimizer.jl:189",
      " [26] optimize!(::Model, ::Nothing; bridge_constraints::Bool, ignore_optimize_hook::Bool, kwargs::Base.Iterators.Pairs{Union{},Union{},Tuple{},NamedTuple{(),Tuple{}}}) at /home/xz584/.julia/packages/JuMP/MnJQc/src/optimizer_interface.jl:131",
      " [27] optimize! at /home/xz584/.julia/packages/JuMP/MnJQc/src/optimizer_interface.jl:107 [inlined] (repeats 2 times)",
      " [28] macro expansion at ./util.jl:175 [inlined]",
      " [29] top-level scope at ./In[23]:1"
     ]
    }
   ],
   "source": [
    "@time optimize!(model)"
   ]
  },
  {
   "cell_type": "code",
   "execution_count": null,
   "metadata": {},
   "outputs": [],
   "source": []
  },
  {
   "cell_type": "code",
   "execution_count": null,
   "metadata": {},
   "outputs": [],
   "source": []
  },
  {
   "cell_type": "code",
   "execution_count": null,
   "metadata": {},
   "outputs": [],
   "source": []
  },
  {
   "cell_type": "code",
   "execution_count": null,
   "metadata": {},
   "outputs": [],
   "source": []
  },
  {
   "cell_type": "code",
   "execution_count": null,
   "metadata": {},
   "outputs": [],
   "source": []
  },
  {
   "cell_type": "code",
   "execution_count": null,
   "metadata": {},
   "outputs": [],
   "source": []
  },
  {
   "cell_type": "code",
   "execution_count": null,
   "metadata": {},
   "outputs": [],
   "source": []
  },
  {
   "cell_type": "code",
   "execution_count": 21,
   "metadata": {},
   "outputs": [
    {
     "data": {
      "text/plain": [
       "1-element Array{Float64,1}:\n",
       " 99.00395983379315"
      ]
     },
     "execution_count": 21,
     "metadata": {},
     "output_type": "execute_result"
    }
   ],
   "source": [
    "θ_init = rand(Uniform(rangeθ[1], rangeθ[2]), dimθ)"
   ]
  },
  {
   "cell_type": "code",
   "execution_count": 22,
   "metadata": {
    "scrolled": true
   },
   "outputs": [
    {
     "name": "stderr",
     "output_type": "stream",
     "text": [
      "┌ Info: Evaluate loss func, current θ\n",
      "│   θ = 76.455005648896\n",
      "└ @ Main /home/xz584/projects/learning_to_cluster/src/spectral/spectral_reduction_main.jl:141\n",
      "┌ Info: Evaluate loss func, current θ\n",
      "│   θ = 123.64499435110397\n",
      "└ @ Main /home/xz584/projects/learning_to_cluster/src/spectral/spectral_reduction_main.jl:141\n",
      "┌ Info: Evaluate loss func, current θ\n",
      "│   θ = 47.28998870220795\n",
      "└ @ Main /home/xz584/projects/learning_to_cluster/src/spectral/spectral_reduction_main.jl:141\n",
      "┌ Info: Evaluate loss func, current θ\n",
      "│   θ = 29.265016946688057\n",
      "└ @ Main /home/xz584/projects/learning_to_cluster/src/spectral/spectral_reduction_main.jl:141\n",
      "┌ Info: Evaluate loss func, current θ\n",
      "│   θ = 18.1249717555199\n",
      "└ @ Main /home/xz584/projects/learning_to_cluster/src/spectral/spectral_reduction_main.jl:141\n",
      "┌ Info: Evaluate loss func, current θ\n",
      "│   θ = 26.805629573671943\n",
      "└ @ Main /home/xz584/projects/learning_to_cluster/src/spectral/spectral_reduction_main.jl:141\n",
      "┌ Info: Evaluate loss func, current θ\n",
      "│   θ = 26.921175617736978\n",
      "└ @ Main /home/xz584/projects/learning_to_cluster/src/spectral/spectral_reduction_main.jl:141\n",
      "┌ Info: Evaluate loss func, current θ\n",
      "│   θ = 27.816443341159566\n",
      "└ @ Main /home/xz584/projects/learning_to_cluster/src/spectral/spectral_reduction_main.jl:141\n",
      "┌ Info: Evaluate loss func, current θ\n",
      "│   θ = 27.816443755656874\n",
      "└ @ Main /home/xz584/projects/learning_to_cluster/src/spectral/spectral_reduction_main.jl:141\n",
      "┌ Info: Evaluate loss func, current θ\n",
      "│   θ = 27.56655676846946\n",
      "└ @ Main /home/xz584/projects/learning_to_cluster/src/spectral/spectral_reduction_main.jl:141\n",
      "┌ Info: Evaluate loss func, current θ\n",
      "│   θ = 27.320043104588173\n",
      "└ @ Main /home/xz584/projects/learning_to_cluster/src/spectral/spectral_reduction_main.jl:141\n",
      "┌ Info: Evaluate loss func, current θ\n",
      "│   θ = 27.662004945904858\n",
      "└ @ Main /home/xz584/projects/learning_to_cluster/src/spectral/spectral_reduction_main.jl:141\n",
      "┌ Info: Evaluate loss func, current θ\n",
      "│   θ = 27.472396927558076\n",
      "└ @ Main /home/xz584/projects/learning_to_cluster/src/spectral/spectral_reduction_main.jl:141\n",
      "┌ Info: Evaluate loss func, current θ\n",
      "│   θ = 27.51570205882364\n",
      "└ @ Main /home/xz584/projects/learning_to_cluster/src/spectral/spectral_reduction_main.jl:141\n",
      "┌ Info: Evaluate loss func, current θ\n",
      "│   θ = 27.517265228327584\n",
      "└ @ Main /home/xz584/projects/learning_to_cluster/src/spectral/spectral_reduction_main.jl:141\n",
      "┌ Info: Evaluate loss func, current θ\n",
      "│   θ = 27.514297511946154\n",
      "└ @ Main /home/xz584/projects/learning_to_cluster/src/spectral/spectral_reduction_main.jl:141\n",
      "┌ Info: Evaluate loss func, current θ\n",
      "│   θ = 27.514053934644437\n",
      "└ @ Main /home/xz584/projects/learning_to_cluster/src/spectral/spectral_reduction_main.jl:141\n",
      "┌ Info: Evaluate loss func, current θ\n",
      "│   θ = 27.51406281428194\n",
      "└ @ Main /home/xz584/projects/learning_to_cluster/src/spectral/spectral_reduction_main.jl:141\n",
      "┌ Info: Evaluate loss func, current θ\n",
      "│   θ = 27.5140633205696\n",
      "└ @ Main /home/xz584/projects/learning_to_cluster/src/spectral/spectral_reduction_main.jl:141\n",
      "┌ Info: Evaluate loss func, current θ\n",
      "│   θ = 27.514062404290453\n",
      "└ @ Main /home/xz584/projects/learning_to_cluster/src/spectral/spectral_reduction_main.jl:141\n",
      "┌ Info: Trained θ, time cost \n",
      "│   (θ, elapsedmin) = (27.51406281428194, 7.78475)\n",
      "└ @ Main In[22]:6\n"
     ]
    }
   ],
   "source": [
    "# use Optim\n",
    "before = Dates.now()\n",
    "results = Optim.optimize(loss, rangeθ[1], rangeθ[2])\n",
    "θ = Optim.minimizer(results)\n",
    "after = Dates.now()\n",
    "elapsedmin = round(((after - before) / Millisecond(1000))/60, digits=5)\n",
    "@info \"Trained θ, time cost \" θ, elapsedmin"
   ]
  },
  {
   "cell_type": "code",
   "execution_count": 27,
   "metadata": {
    "scrolled": true
   },
   "outputs": [],
   "source": [
    "L, _ = laplacian_L(X, θ; if_deriv=false) \n",
    "H = I_rows == nothing ?  Vhat' * L * Vhat : (Vhat[I_rows, :])' * (L[I_rows, ] * Vhat)\n",
    "@assert size(H) == (m, m) "
   ]
  },
  {
   "cell_type": "code",
   "execution_count": 30,
   "metadata": {},
   "outputs": [
    {
     "name": "stderr",
     "output_type": "stream",
     "text": [
      "┌ Info: (156, 29)\n",
      "└ @ Main In[30]:4\n"
     ]
    }
   ],
   "source": [
    "# compute Y, k largest eigenvectors of H\n",
    "ef = eigen(Symmetric(H), m-k+1:m)\n",
    "Y = ef.vectors\n",
    "@info size(Y)"
   ]
  },
  {
   "cell_type": "code",
   "execution_count": 31,
   "metadata": {
    "scrolled": true
   },
   "outputs": [
    {
     "name": "stdout",
     "output_type": "stream",
     "text": [
      "  Iters               objv        objv-change | affected \n",
      "-------------------------------------------------------------\n",
      "      0       1.644388e+01\n",
      "      1       1.186057e+01      -4.583318e+00 |       26\n",
      "      2       1.099561e+01      -8.649586e-01 |       25\n",
      "      3       1.084326e+01      -1.523509e-01 |       18\n",
      "      4       1.078773e+01      -5.552359e-02 |       15\n",
      "      5       1.076699e+01      -2.074553e-02 |       13\n",
      "      6       1.075254e+01      -1.444404e-02 |       12\n",
      "      7       1.073694e+01      -1.560151e-02 |       13\n",
      "      8       1.072220e+01      -1.474449e-02 |       15\n",
      "      9       1.070162e+01      -2.058171e-02 |       14\n",
      "     10       1.068273e+01      -1.889056e-02 |       15\n",
      "     11       1.066043e+01      -2.229761e-02 |       14\n",
      "     12       1.064022e+01      -2.021263e-02 |       11\n",
      "     13       1.062779e+01      -1.242714e-02 |       12\n",
      "     14       1.061785e+01      -9.939768e-03 |       10\n",
      "     15       1.060827e+01      -9.574211e-03 |       11\n",
      "     16       1.059840e+01      -9.871957e-03 |       11\n",
      "     17       1.059003e+01      -8.376070e-03 |       10\n",
      "     18       1.058130e+01      -8.723716e-03 |       10\n",
      "     19       1.057523e+01      -6.077385e-03 |       11\n",
      "     20       1.057103e+01      -4.197482e-03 |        9\n",
      "     21       1.056619e+01      -4.840272e-03 |       10\n",
      "     22       1.056133e+01      -4.860327e-03 |       11\n",
      "     23       1.055728e+01      -4.050250e-03 |       10\n",
      "     24       1.055488e+01      -2.398379e-03 |        9\n",
      "     25       1.055308e+01      -1.797040e-03 |        9\n",
      "     26       1.055205e+01      -1.028871e-03 |        9\n",
      "     27       1.055138e+01      -6.756941e-04 |        9\n",
      "     28       1.055098e+01      -3.972354e-04 |        7\n",
      "     29       1.055065e+01      -3.318887e-04 |        6\n",
      "     30       1.055053e+01      -1.212491e-04 |        4\n",
      "     31       1.055047e+01      -5.338639e-05 |        4\n",
      "     32       1.055044e+01      -3.185521e-05 |        4\n",
      "     33       1.055038e+01      -6.240745e-05 |        2\n",
      "     34       1.055037e+01      -1.405721e-05 |        3\n",
      "     35       1.055033e+01      -3.584417e-05 |        5\n",
      "     36       1.055024e+01      -9.217161e-05 |        2\n",
      "     37       1.055021e+01      -2.762962e-05 |        0\n",
      "     38       1.055021e+01       0.000000e+00 |        0\n",
      "K-means converged with 38 iterations (objv = 10.550209799408838)\n"
     ]
    },
    {
     "name": "stderr",
     "output_type": "stream",
     "text": [
      "┌ Info: (4177,)\n",
      "└ @ Main In[31]:2\n"
     ]
    }
   ],
   "source": [
    "a =  kmeans_reduction(Vhat, Y, k; maxiter = 200)\n",
    "@info size(a)"
   ]
  },
  {
   "cell_type": "code",
   "execution_count": 32,
   "metadata": {},
   "outputs": [
    {
     "data": {
      "text/plain": [
       "0.19946808510638298"
      ]
     },
     "execution_count": 32,
     "metadata": {},
     "output_type": "execute_result"
    }
   ],
   "source": [
    "max_acc, matched_assignment = bipartite_match_labels(a, y, k; ntrain = ntrain)\n",
    "max_acc"
   ]
  },
  {
   "cell_type": "code",
   "execution_count": 33,
   "metadata": {},
   "outputs": [
    {
     "data": {
      "text/plain": [
       "(0.058294958412671585, 0.8449332948441471, 0.1550667051558529, 0.6898665896882942)"
      ]
     },
     "execution_count": 33,
     "metadata": {},
     "output_type": "execute_result"
    }
   ],
   "source": [
    "RI = randindex(matched_assignment[ntrain+1:end], y[ntrain+1:end])"
   ]
  },
  {
   "cell_type": "code",
   "execution_count": null,
   "metadata": {},
   "outputs": [],
   "source": []
  },
  {
   "cell_type": "code",
   "execution_count": null,
   "metadata": {},
   "outputs": [],
   "source": []
  },
  {
   "cell_type": "code",
   "execution_count": null,
   "metadata": {},
   "outputs": [],
   "source": []
  },
  {
   "cell_type": "code",
   "execution_count": null,
   "metadata": {},
   "outputs": [],
   "source": []
  }
 ],
 "metadata": {
  "kernelspec": {
   "display_name": "Julia 1.4.1",
   "language": "julia",
   "name": "julia-1.4"
  },
  "language_info": {
   "file_extension": ".jl",
   "mimetype": "application/julia",
   "name": "julia",
   "version": "1.4.1"
  }
 },
 "nbformat": 4,
 "nbformat_minor": 4
}
