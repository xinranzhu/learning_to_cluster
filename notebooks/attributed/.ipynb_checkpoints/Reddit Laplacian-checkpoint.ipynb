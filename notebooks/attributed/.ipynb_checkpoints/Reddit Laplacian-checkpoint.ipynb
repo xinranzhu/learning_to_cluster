{
 "cells": [
  {
   "cell_type": "markdown",
   "metadata": {},
   "source": [
    "# Load and Compute Laplacian Matrix for Reddit Hyperlinks Dataset\n",
    " Currently the code is specialized for the Reddit dataset. It can, however, be generalized to generic attributed datasets. "
   ]
  },
  {
   "cell_type": "code",
   "execution_count": 2,
   "metadata": {},
   "outputs": [
    {
     "name": "stderr",
     "output_type": "stream",
     "text": [
      "┌ Warning: `CSV.read(input; kw...)` is deprecated in favor of `using DataFrames; CSV.read(input, DataFrame; kw...)\n",
      "│   caller = read(::String) at CSV.jl:40\n",
      "└ @ CSV C:\\Users\\Leo Huang\\.julia\\packages\\CSV\\MKemC\\src\\CSV.jl:40\n",
      "┌ Warning: `getindex(df::DataFrame, col_ind::ColumnIndex)` is deprecated, use `df[!, col_ind]` instead.\n",
      "│   caller = top-level scope at readAttributed.jl:10\n",
      "└ @ Core C:\\Users\\Leo Huang\\Desktop\\learning_to_cluster\\src\\attributed\\readAttributed.jl:10\n",
      "┌ Warning: `getindex(df::DataFrame, col_ind::ColumnIndex)` is deprecated, use `df[!, col_ind]` instead.\n",
      "│   caller = top-level scope at readAttributed.jl:11\n",
      "└ @ Core C:\\Users\\Leo Huang\\Desktop\\learning_to_cluster\\src\\attributed\\readAttributed.jl:11\n",
      "┌ Warning: `getindex(df::DataFrame, col_ind::ColumnIndex)` is deprecated, use `df[!, col_ind]` instead.\n",
      "│   caller = top-level scope at readAttributed.jl:116\n",
      "└ @ Core C:\\Users\\Leo Huang\\Desktop\\learning_to_cluster\\src\\attributed\\readAttributed.jl:116\n",
      "┌ Warning: `getindex(df::DataFrame, col_ind::ColumnIndex)` is deprecated, use `df[!, col_ind]` instead.\n",
      "│   caller = top-level scope at readAttributed.jl:119\n",
      "└ @ Core C:\\Users\\Leo Huang\\Desktop\\learning_to_cluster\\src\\attributed\\readAttributed.jl:119\n"
     ]
    },
    {
     "data": {
      "text/plain": [
       "laplacian_attributed_L (generic function with 1 method)"
      ]
     },
     "execution_count": 2,
     "metadata": {},
     "output_type": "execute_result"
    }
   ],
   "source": [
    "include(\"../../src/attributed/readAttributed.jl\")\n",
    "include(\"../../src/attributed/clusteringAttributed.jl\")"
   ]
  },
  {
   "cell_type": "code",
   "execution_count": 20,
   "metadata": {},
   "outputs": [
    {
     "name": "stderr",
     "output_type": "stream",
     "text": [
      "\u001b[32m\u001b[1m  Resolving\u001b[22m\u001b[39m package versions...\n",
      "\u001b[32m\u001b[1m   Updating\u001b[22m\u001b[39m `C:\\Users\\Leo Huang\\.julia\\environments\\v1.4\\Project.toml`\n",
      "\u001b[90m [no changes]\u001b[39m\n",
      "\u001b[32m\u001b[1m   Updating\u001b[22m\u001b[39m `C:\\Users\\Leo Huang\\.julia\\environments\\v1.4\\Manifest.toml`\n",
      "\u001b[90m [no changes]\u001b[39m\n",
      "\u001b[32m\u001b[1m  Resolving\u001b[22m\u001b[39m package versions...\n",
      "\u001b[32m\u001b[1m   Updating\u001b[22m\u001b[39m `C:\\Users\\Leo Huang\\.julia\\environments\\v1.4\\Project.toml`\n",
      "\u001b[90m [no changes]\u001b[39m\n",
      "\u001b[32m\u001b[1m   Updating\u001b[22m\u001b[39m `C:\\Users\\Leo Huang\\.julia\\environments\\v1.4\\Manifest.toml`\n",
      "\u001b[90m [no changes]\u001b[39m\n"
     ]
    }
   ],
   "source": [
    "using Pkg\n",
    "Pkg.add(\"KrylovKit\")\n",
    "Pkg.add(\"Arpack\")\n",
    "using KrylovKit\n",
    "using Arpack"
   ]
  },
  {
   "cell_type": "markdown",
   "metadata": {},
   "source": [
    "# 1) Specify Hyperparameters for Laplacian Matrix"
   ]
  },
  {
   "cell_type": "code",
   "execution_count": 3,
   "metadata": {},
   "outputs": [
    {
     "data": {
      "text/plain": [
       "12×1 Array{Float64,2}:\n",
       " 0.947223394063303\n",
       " 0.9309419679011639\n",
       " 0.5109125891996451\n",
       " 0.4180687126501821\n",
       " 0.8557757232472156\n",
       " 0.14498626253658786\n",
       " 0.46754011053370537\n",
       " 0.4383557036801238\n",
       " 0.013413911797432787\n",
       " 0.7804474464741764\n",
       " 0.020552893473569256\n",
       " 0.1850609982745346"
      ]
     },
     "execution_count": 3,
     "metadata": {},
     "output_type": "execute_result"
    }
   ],
   "source": [
    "hypers = rand(12, 1)"
   ]
  },
  {
   "cell_type": "markdown",
   "metadata": {},
   "source": [
    "# 2)  Form Sparse Laplacian Matrix using Attributed Reddit Data"
   ]
  },
  {
   "cell_type": "code",
   "execution_count": 11,
   "metadata": {},
   "outputs": [
    {
     "name": "stdout",
     "output_type": "stream",
     "text": [
      " 39.412628 seconds (27.05 M allocations: 1.429 GiB, 0.79% gc time)\n"
     ]
    },
    {
     "data": {
      "text/plain": [
       "(\n",
       "  [22052,     1]  =  0.0548112\n",
       "  [5386 ,     2]  =  0.193175\n",
       "  [34462,     3]  =  0.102506\n",
       "  [20356,     4]  =  0.015419\n",
       "  [20356,     5]  =  0.0108859\n",
       "  [25386,     5]  =  0.0670975\n",
       "  [28499,     6]  =  0.029307\n",
       "  [32810,     6]  =  0.0517029\n",
       "  [13686,     7]  =  0.127939\n",
       "  [1894 ,     8]  =  0.140133\n",
       "  [4163 ,     9]  =  0.18702\n",
       "  [4236 ,     9]  =  0.0731932\n",
       "  ⋮\n",
       "  [19988, 35772]  =  0.0934409\n",
       "  [4027 , 35773]  =  0.023505\n",
       "  [5262 , 35773]  =  0.0185922\n",
       "  [5727 , 35773]  =  0.378093\n",
       "  [26721, 35773]  =  0.0944198\n",
       "  [27327, 35773]  =  0.0523471\n",
       "  [31754, 35773]  =  0.00541112\n",
       "  [3314 , 35774]  =  1.0\n",
       "  [20656, 35775]  =  0.0264001\n",
       "  [1778 , 35776]  =  0.0108953\n",
       "  [6361 , 35776]  =  0.0366661\n",
       "  [13530, 35776]  =  0.500491\n",
       "  [14253, 35776]  =  0.0140106, nothing)"
      ]
     },
     "execution_count": 11,
     "metadata": {},
     "output_type": "execute_result"
    }
   ],
   "source": [
    "@time begin\n",
    "L = laplacian_attributed_L(hypers, if_deriv = false) #35k by 35k\n",
    "end"
   ]
  },
  {
   "cell_type": "markdown",
   "metadata": {},
   "source": [
    "# Compute eigenvalues/vectors of Sparse Laplacian Matrix"
   ]
  },
  {
   "cell_type": "code",
   "execution_count": 21,
   "metadata": {},
   "outputs": [],
   "source": [
    "myL = L[1];"
   ]
  },
  {
   "cell_type": "code",
   "execution_count": 27,
   "metadata": {},
   "outputs": [
    {
     "data": {
      "text/plain": [
       "([1.0000000000000018, 1.0000000000000007, 0.9999999999999991, 0.9999999999999984, 0.9999999999999963], [[9.647598678757663e-5, 0.00016775673781009118, 0.00013638545577202772, 9.643532755731639e-5, 0.0001372710444050405, 0.00023689430710233293, 9.638286091534491e-5, 9.666560787517494e-5, 0.00023623940689012995, 9.648221804163263e-5  …  0.00019289901529953078, 9.649938904585463e-5, 9.643286802088226e-5, 0.0009499963655285237, 0.0007289910848925383, 0.0002157217118539202, 0.00025508756276084127, -0.0491741816808733, 9.639848041662695e-5, 0.00019296699687938466], [-0.00010417803866438585, -0.00018114940825919476, -0.00014727363521000505, -0.00010413413345021708, -0.00014822992381530268, -0.0002558064976212126, -0.00010407747819290396, -0.00010438279793820816, -0.0002550993141873481, -0.00010418476738360518  …  -0.00020829889118879124, -0.00010420330921563123, -0.00010413147755946171, -0.001025838256694615, -0.0007871892680937078, -0.00023294361204875905, -0.00027545219137914927, -0.019859048560173575, -0.00010409434465950502, -0.00020837230000159566], [9.952450391529021e-5, 0.00017305763501292758, 0.00014069506080159543, 9.948255990563255e-5, 0.0001416086328966623, 0.00024437986259345296, 9.942843538524185e-5, 9.97201167854319e-5, 0.00024370426837669223, 9.95309320689646e-5  …  0.00019899437614153833, 9.954864565484035e-5, 9.948002265101441e-5, 0.0009800150291153073, 0.0007520262657934481, 0.0002225382405602208, 0.00026314800173676323, 0.028745022599718225, 9.9444548442682e-5, 0.0001990645058519143], [-0.00026018034867626597, -0.00045241316507419225, -0.00036780982106221434, -0.0002600706972173036, -0.0003701981123561534, -0.0006388661621779414, -0.00025992920305221225, -0.00026069172650542056, -0.0006371000007607934, -0.00026019715337459616  …  -0.0005202178773298991, -0.0002602434608342464, -0.00026006406423984165, -0.002561988675675648, -0.001965972683615619, -0.0005817670497714244, -0.0006879304709080546, 0.0539041713587542, -0.0002599713263559161, -0.0005204012128078551], [-0.0012578210022395446, -0.0021871551161153635, -0.0017781470434481673, -0.0012572909010665908, -0.0017896930459201954, -0.003088547157754206, -0.001256606858887964, -0.0012602932172890552, -0.003080008792212208, -0.0012579022432041228  …  -0.002514951552548602, -0.001258126112899148, -0.0012572588344697006, -0.01238572851547042, -0.009504337064125495, -0.002812506084093008, -0.003325744618266053, -0.012640584036300207, -0.0012568105006170167, -0.00251583787319432]], ConvergenceInfo: 5 converged values after 68 iterations and 834 applications of the linear map;\n",
       "norms of residuals are given by (0.0, 0.0, 0.0, 0.0, 0.0).\n",
       ")"
      ]
     },
     "execution_count": 27,
     "metadata": {},
     "output_type": "execute_result"
    }
   ],
   "source": [
    "_, Vk = eigsolve(myL, 5, :LR, Float64; issymmetric=true, tol = 1e-16);\n",
    "#Vhat_sample[:, (i-1)*k+1: i*k] = hcat(Vk...)"
   ]
  },
  {
   "cell_type": "code",
   "execution_count": 30,
   "metadata": {},
   "outputs": [
    {
     "data": {
      "text/plain": [
       "35776-element Array{Float64,1}:\n",
       "  9.647598678757663e-5\n",
       "  0.00016775673781009118\n",
       "  0.00013638545577202772\n",
       "  9.643532755731639e-5\n",
       "  0.0001372710444050405\n",
       "  0.00023689430710233293\n",
       "  9.638286091534491e-5\n",
       "  9.666560787517494e-5\n",
       "  0.00023623940689012995\n",
       "  9.648221804163263e-5\n",
       "  9.639194192116164e-5\n",
       "  9.645868531621982e-5\n",
       "  0.000646967741912351\n",
       "  ⋮\n",
       "  9.6463022952515e-5\n",
       "  0.00013634493346771807\n",
       "  0.00019289901529953078\n",
       "  9.649938904585463e-5\n",
       "  9.643286802088226e-5\n",
       "  0.0009499963655285237\n",
       "  0.0007289910848925383\n",
       "  0.0002157217118539202\n",
       "  0.00025508756276084127\n",
       " -0.0491741816808733\n",
       "  9.639848041662695e-5\n",
       "  0.00019296699687938466"
      ]
     },
     "execution_count": 30,
     "metadata": {},
     "output_type": "execute_result"
    }
   ],
   "source": [
    "@show Vk[1]"
   ]
  },
  {
   "cell_type": "code",
   "execution_count": null,
   "metadata": {},
   "outputs": [],
   "source": []
  }
 ],
 "metadata": {
  "kernelspec": {
   "display_name": "Julia 1.4.1",
   "language": "julia",
   "name": "julia-1.4"
  },
  "language_info": {
   "file_extension": ".jl",
   "mimetype": "application/julia",
   "name": "julia",
   "version": "1.4.1"
  }
 },
 "nbformat": 4,
 "nbformat_minor": 4
}
